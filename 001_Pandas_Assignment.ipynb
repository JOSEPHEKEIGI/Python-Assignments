{
 "cells": [
  {
   "attachments": {},
   "cell_type": "markdown",
   "metadata": {
    "tags": []
   },
   "source": [
    "# Assignment: Getting Started with Pandas"
   ]
  },
  {
   "attachments": {},
   "cell_type": "markdown",
   "metadata": {},
   "source": [
    "In this assignment, you will practice using the Pandas library by performing some basic operations on a given dataset. You will explore the dataset, clean and manipulate the data, and answer some questions based on the data."
   ]
  },
  {
   "attachments": {},
   "cell_type": "markdown",
   "metadata": {},
   "source": [
    "## Dataset"
   ]
  },
  {
   "attachments": {},
   "cell_type": "markdown",
   "metadata": {},
   "source": [
    "The dataset you will be working with is a collection of information about various video games and their sales. which can be found here. https://www.kaggle.com/datasets/gregorut/videogamesales"
   ]
  },
  {
   "attachments": {},
   "cell_type": "markdown",
   "metadata": {},
   "source": [
    "## Instructions"
   ]
  },
  {
   "attachments": {},
   "cell_type": "markdown",
   "metadata": {},
   "source": [
    "1 Import the necessary libraries and load the dataset.<br>\n",
    "2 Display the first 10 rows of the dataset.<br>\n",
    "3 Display the shape and basic information about the dataset.<br>\n",
    "4 Check for missing data and handle it appropriately.<br>\n",
    "5 Display the top 5 video games by global sale<br>\n",
    "6 Calculate the total sales in North America for the 'Action' genre.<br>\n",
    "7 Find the top 3 publishers by global sales.<br>\n",
    "8 Calculate the average sales in Europe for the 'Shooter' genre.<br>\n",
    "9 Find the game with the highest sales in Japan in the 'Sports' genre.<br>"
   ]
  },
  {
   "attachments": {},
   "cell_type": "markdown",
   "metadata": {},
   "source": [
    "# SOLUTIONS"
   ]
  },
  {
   "cell_type": "code",
   "execution_count": null,
   "metadata": {},
   "outputs": [],
   "source": [
    "import pandas as pd\n",
    "\n",
    "dataset_path = vgsales.csv\n",
    "\n",
    "print(dataset_path.head())\n"
   ]
  }
 ],
 "metadata": {
  "kernelspec": {
   "display_name": "Python 3",
   "language": "python",
   "name": "python3"
  },
  "language_info": {
   "name": "python",
   "version": "3.11.2"
  },
  "orig_nbformat": 4
 },
 "nbformat": 4,
 "nbformat_minor": 2
}
