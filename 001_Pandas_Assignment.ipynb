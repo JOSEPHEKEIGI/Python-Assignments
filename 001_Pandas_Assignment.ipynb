{
 "cells": [
  {
   "attachments": {},
   "cell_type": "markdown",
   "metadata": {
    "tags": []
   },
   "source": [
    "# Assignment: Getting Started with Pandas"
   ]
  },
  {
   "attachments": {},
   "cell_type": "markdown",
   "metadata": {},
   "source": [
    "In this assignment, you will practice using the Pandas library by performing some basic operations on a given dataset. You will explore the dataset, clean and manipulate the data, and answer some questions based on the data."
   ]
  },
  {
   "attachments": {},
   "cell_type": "markdown",
   "metadata": {},
   "source": [
    "## Dataset"
   ]
  },
  {
   "attachments": {},
   "cell_type": "markdown",
   "metadata": {},
   "source": [
    "The dataset you will be working with is a collection of information about various video games and their sales. which can be found here. https://www.kaggle.com/datasets/gregorut/videogamesales"
   ]
  },
  {
   "attachments": {},
   "cell_type": "markdown",
   "metadata": {},
   "source": [
    "## Instructions"
   ]
  },
  {
   "attachments": {},
   "cell_type": "markdown",
   "metadata": {},
   "source": [
    "1 Import the necessary libraries and load the dataset.<br>\n",
    "2 Display the first 10 rows of the dataset.<br>\n",
    "3 Display the shape and basic information about the dataset.<br>\n",
    "4 Check for missing data and handle it appropriately.<br>\n",
    "5 Display the top 5 video games by global sale<br>\n",
    "6 Calculate the total sales in North America for the 'Action' genre.<br>\n",
    "7 Find the top 3 publishers by global sales.<br>\n",
    "8 Calculate the average sales in Europe for the 'Shooter' genre.<br>\n",
    "9 Find the game with the highest sales in Japan in the 'Sports' genre.<br>"
   ]
  },
  {
   "attachments": {},
   "cell_type": "markdown",
   "metadata": {},
   "source": [
    "# SOLUTIONS"
   ]
  },
  {
   "attachments": {},
   "cell_type": "markdown",
   "metadata": {},
   "source": [
    "### Answer 1 & 2 - importing library and loading data:"
   ]
  },
  {
   "cell_type": "code",
   "execution_count": 119,
   "metadata": {},
   "outputs": [
    {
     "name": "stdout",
     "output_type": "stream",
     "text": [
      "    Rank                       Name Platform    Year         Genre Publisher   \n",
      "0      1                 Wii Sports      Wii  2006.0        Sports  Nintendo  \\\n",
      "1      2          Super Mario Bros.      NES  1985.0      Platform  Nintendo   \n",
      "2      3             Mario Kart Wii      Wii  2008.0        Racing  Nintendo   \n",
      "3      4          Wii Sports Resort      Wii  2009.0        Sports  Nintendo   \n",
      "4      5   Pokemon Red/Pokemon Blue       GB  1996.0  Role-Playing  Nintendo   \n",
      "5      6                     Tetris       GB  1989.0        Puzzle  Nintendo   \n",
      "6      7      New Super Mario Bros.       DS  2006.0      Platform  Nintendo   \n",
      "7      8                   Wii Play      Wii  2006.0          Misc  Nintendo   \n",
      "8      9  New Super Mario Bros. Wii      Wii  2009.0      Platform  Nintendo   \n",
      "9     10                  Duck Hunt      NES  1984.0       Shooter  Nintendo   \n",
      "10    11                 Nintendogs       DS  2005.0    Simulation  Nintendo   \n",
      "\n",
      "    NA_Sales  EU_Sales  JP_Sales  Other_Sales  Global_Sales  \n",
      "0      41.49     29.02      3.77         8.46         82.74  \n",
      "1      29.08      3.58      6.81         0.77         40.24  \n",
      "2      15.85     12.88      3.79         3.31         35.82  \n",
      "3      15.75     11.01      3.28         2.96         33.00  \n",
      "4      11.27      8.89     10.22         1.00         31.37  \n",
      "5      23.20      2.26      4.22         0.58         30.26  \n",
      "6      11.38      9.23      6.50         2.90         30.01  \n",
      "7      14.03      9.20      2.93         2.85         29.02  \n",
      "8      14.59      7.06      4.70         2.26         28.62  \n",
      "9      26.93      0.63      0.28         0.47         28.31  \n",
      "10      9.07     11.00      1.93         2.75         24.76  \n"
     ]
    }
   ],
   "source": [
    "import pandas as pd\n",
    "import numpy as np\n",
    "\n",
    "dataset_path = r'C:\\Users\\Cecilia Mwaura\\Documents\\Video Data Analysis\\vgsales.csv'\n",
    "\n",
    "data = pd.read_csv(dataset_path)\n",
    "\n",
    "print(data.head(11))\n"
   ]
  },
  {
   "attachments": {},
   "cell_type": "markdown",
   "metadata": {},
   "source": [
    "### Answer 3: - Shape of data"
   ]
  },
  {
   "cell_type": "code",
   "execution_count": 120,
   "metadata": {},
   "outputs": [
    {
     "name": "stdout",
     "output_type": "stream",
     "text": [
      "(16598, 11)\n",
      "____________________________________________________________________________________________________\n",
      "               Rank          Year      NA_Sales      EU_Sales      JP_Sales   \n",
      "count  16598.000000  16327.000000  16598.000000  16598.000000  16598.000000  \\\n",
      "mean    8300.605254   2006.406443      0.264667      0.146652      0.077782   \n",
      "std     4791.853933      5.828981      0.816683      0.505351      0.309291   \n",
      "min        1.000000   1980.000000      0.000000      0.000000      0.000000   \n",
      "25%     4151.250000   2003.000000      0.000000      0.000000      0.000000   \n",
      "50%     8300.500000   2007.000000      0.080000      0.020000      0.000000   \n",
      "75%    12449.750000   2010.000000      0.240000      0.110000      0.040000   \n",
      "max    16600.000000   2020.000000     41.490000     29.020000     10.220000   \n",
      "\n",
      "        Other_Sales  Global_Sales  \n",
      "count  16598.000000  16598.000000  \n",
      "mean       0.048063      0.537441  \n",
      "std        0.188588      1.555028  \n",
      "min        0.000000      0.010000  \n",
      "25%        0.000000      0.060000  \n",
      "50%        0.010000      0.170000  \n",
      "75%        0.040000      0.470000  \n",
      "max       10.570000     82.740000  \n"
     ]
    }
   ],
   "source": [
    "print(np.shape(data))\n",
    "print('_'*100)\n",
    "data_list = pd.DataFrame(data).describe()\n",
    "print(data_list)"
   ]
  },
  {
   "attachments": {},
   "cell_type": "markdown",
   "metadata": {},
   "source": [
    "### Answer 4: - Checking Missing data and handling them"
   ]
  },
  {
   "cell_type": "code",
   "execution_count": null,
   "metadata": {},
   "outputs": [],
   "source": [
    "\n"
   ]
  },
  {
   "attachments": {},
   "cell_type": "markdown",
   "metadata": {},
   "source": [
    "### Answer 5: - Top 5 five Video game by global sale."
   ]
  },
  {
   "cell_type": "code",
   "execution_count": 121,
   "metadata": {},
   "outputs": [
    {
     "name": "stdout",
     "output_type": "stream",
     "text": [
      "Genre\n",
      "Action       1751.18\n",
      "Adventure     239.04\n",
      "Fighting      448.91\n",
      "Misc          809.96\n",
      "Platform      831.37\n",
      "Puzzle        244.95\n",
      "Name: Global_Sales, dtype: float64\n"
     ]
    }
   ],
   "source": [
    "Best_five = data.groupby('Genre', sort=True)['Global_Sales'].sum()\n",
    "\n",
    "\n",
    "print(Best_five.head(6))"
   ]
  },
  {
   "attachments": {},
   "cell_type": "markdown",
   "metadata": {},
   "source": [
    "### Answer 6: Total Sales in North America for the Action 'Genre'"
   ]
  },
  {
   "cell_type": "code",
   "execution_count": 122,
   "metadata": {},
   "outputs": [
    {
     "name": "stdout",
     "output_type": "stream",
     "text": [
      "North America Sale :4392.950000000001\n"
     ]
    }
   ],
   "source": [
    "NA_Total_Sales = data['NA_Sales'].sum()\n",
    "print('North America Sale :' + str(NA_Total_Sales))"
   ]
  },
  {
   "attachments": {},
   "cell_type": "markdown",
   "metadata": {},
   "source": [
    "### Answer 7: Top 3 Publishers by global_sales"
   ]
  },
  {
   "cell_type": "code",
   "execution_count": 123,
   "metadata": {},
   "outputs": [
    {
     "name": "stdout",
     "output_type": "stream",
     "text": [
      "Publisher\n",
      "10TACLE Studios                 0.11\n",
      "1C Company                      0.10\n",
      "20th Century Fox Video Games    1.94\n",
      "2D Boy                          0.04\n",
      "Name: Global_Sales, dtype: float64\n"
     ]
    }
   ],
   "source": [
    "Top_3_Publishers = data.groupby('Publisher')['Global_Sales'].sum()\n",
    "\n",
    "print(Top_3_Publishers.head(4))"
   ]
  },
  {
   "attachments": {},
   "cell_type": "markdown",
   "metadata": {},
   "source": [
    "### Answer 8: Average Sales in Europe in 'Shooter' Genre"
   ]
  },
  {
   "cell_type": "code",
   "execution_count": null,
   "metadata": {},
   "outputs": [],
   "source": []
  },
  {
   "attachments": {},
   "cell_type": "markdown",
   "metadata": {},
   "source": [
    "### Answer 9 : The Game with the Highest sales in Japan in 'Sport' Genre"
   ]
  },
  {
   "cell_type": "code",
   "execution_count": null,
   "metadata": {},
   "outputs": [],
   "source": []
  }
 ],
 "metadata": {
  "kernelspec": {
   "display_name": "Python 3",
   "language": "python",
   "name": "python3"
  },
  "language_info": {
   "codemirror_mode": {
    "name": "ipython",
    "version": 3
   },
   "file_extension": ".py",
   "mimetype": "text/x-python",
   "name": "python",
   "nbconvert_exporter": "python",
   "pygments_lexer": "ipython3",
   "version": "3.11.2"
  },
  "orig_nbformat": 4
 },
 "nbformat": 4,
 "nbformat_minor": 2
}
